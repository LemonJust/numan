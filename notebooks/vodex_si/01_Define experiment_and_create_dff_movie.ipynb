{
 "cells": [
  {
   "cell_type": "code",
   "execution_count": 2,
   "id": "5a17f07e-e09c-4fba-9b41-87ffe1d7bfaa",
   "metadata": {
    "pycharm": {
     "name": "#%%\n"
    }
   },
   "outputs": [
    {
     "name": "stderr",
     "output_type": "stream",
     "text": [
      "Matplotlib created a temporary config/cache directory at /tmp/matplotlib-rnpwak1y because the default path (/home/ply/.config/matplotlib) is not a writable directory; it is highly recommended to set the MPLCONFIGDIR environment variable to a writable directory, in particular to speed up the import of Matplotlib and to better support multiprocessing.\n"
     ]
    }
   ],
   "source": [
    "import numpy as np\n",
    "import os\n",
    "\n",
    "# data manager and analysis\n",
    "import vodex as vx\n",
    "import numan as nu"
   ]
  },
  {
   "attachments": {},
   "cell_type": "markdown",
   "id": "a91d2431",
   "metadata": {},
   "source": [
    "### Packages and versions when this notebook was last tested:"
   ]
  },
  {
   "cell_type": "code",
   "execution_count": 4,
   "id": "46aa95a6",
   "metadata": {},
   "outputs": [
    {
     "name": "stdout",
     "output_type": "stream",
     "text": [
      "Package             Version   Editable project location\n",
      "------------------- --------- -------------------------\n",
      "asttokens           2.2.1\n",
      "attrs               23.1.0\n",
      "backcall            0.2.0\n",
      "beautifulsoup4      4.12.2\n",
      "bleach              6.0.0\n",
      "comm                0.1.3\n",
      "contourpy           1.0.7\n",
      "cycler              0.11.0\n",
      "debugpy             1.6.7\n",
      "decorator           5.1.1\n",
      "defusedxml          0.7.1\n",
      "executing           1.2.0\n",
      "fastjsonschema      2.17.1\n",
      "fonttools           4.39.4\n",
      "freetype-py         2.3.0\n",
      "ipykernel           6.23.1\n",
      "ipython             8.13.2\n",
      "jedi                0.18.2\n",
      "Jinja2              3.1.2\n",
      "jsonschema          4.17.3\n",
      "jupyter_client      8.2.0\n",
      "jupyter_core        5.3.0\n",
      "jupyterlab-pygments 0.2.2\n",
      "kiwisolver          1.4.4\n",
      "MarkupSafe          2.1.2\n",
      "matplotlib          3.7.1\n",
      "matplotlib-inline   0.1.6\n",
      "mistune             2.0.5\n",
      "nbclient            0.8.0\n",
      "nbconvert           7.4.0\n",
      "nbformat            5.8.0\n",
      "nest-asyncio        1.5.6\n",
      "numan               1.0.4     /home/ply/repos/numan\n",
      "numpy               1.24.3\n",
      "packaging           23.1\n",
      "pandas              2.0.1\n",
      "pandocfilters       1.5.0\n",
      "parso               0.8.3\n",
      "pexpect             4.8.0\n",
      "pickleshare         0.7.5\n",
      "Pillow              9.5.0\n",
      "pip                 23.0.1\n",
      "platformdirs        3.5.1\n",
      "prompt-toolkit      3.0.38\n",
      "psutil              5.9.5\n",
      "ptyprocess          0.7.0\n",
      "pure-eval           0.2.2\n",
      "pycairo             1.23.0\n",
      "Pygments            2.15.1\n",
      "pyparsing           3.0.9\n",
      "PyPDF2              3.0.1\n",
      "pyrsistent          0.19.3\n",
      "python-dateutil     2.8.2\n",
      "pytz                2023.3\n",
      "pyzmq               25.0.2\n",
      "reportlab           4.0.0\n",
      "rlPyCairo           0.2.0\n",
      "scipy               1.10.1\n",
      "setuptools          66.0.0\n",
      "six                 1.16.0\n",
      "soupsieve           2.4.1\n",
      "stack-data          0.6.2\n",
      "tifffile            2023.4.12\n",
      "tinycss2            1.2.1\n",
      "tornado             6.3.2\n",
      "tqdm                4.65.0\n",
      "traitlets           5.9.0\n",
      "tzdata              2023.3\n",
      "urllib3             2.0.2\n",
      "vodex               1.0.18\n",
      "wcwidth             0.2.6\n",
      "webencodings        0.5.1\n",
      "wheel               0.38.4\n",
      "Note: you may need to restart the kernel to use updated packages.\n"
     ]
    }
   ],
   "source": [
    "pip list"
   ]
  },
  {
   "attachments": {},
   "cell_type": "markdown",
   "id": "ced75f57-3ae0-4e1c-ab34-f5e5010fdc97",
   "metadata": {
    "pycharm": {
     "name": "#%% md\n"
    },
    "tags": []
   },
   "source": [
    "# Project structure: \n",
    "\n",
    "Provide the project folder, then the \"processed\" folder will be created inside. \n",
    "\n",
    "As you keep going with the analysis, the folder will have the following structure: \n",
    "\n",
    "```\n",
    "+++++++++++++++++++++++++++++++++++++++++++++++++++++++++++\n",
    "+++++++++++++ WILL BE DONE in this notebook +++++++++++++++\n",
    "+++++++++++++++++++++++++++++++++++++++++++++++++++++++++++\n",
    "processed                                               +++\n",
    "│   experiment_raw.json <-------------------------------+++ the file that contains the volume information about the experiment, you are creating it once and will be reusing ever after\n",
    "│   experiment_dff.json <-------------------------------+++ the experiment, but files are loaded from the dff movie folder, not from the raw data               \n",
    "└───dff_movie  <----------------------------------------+++ the dff movie folder, will be created by this notebook\n",
    "│   │   dff_movie_0000.tif                              +++ individual tif files with the dff movie\n",
    "│   │   dff_movie_0001.tif                              +++\n",
    "│   │   ...                                             +++\n",
    "│++++++++++++++++++++++++++++++++++++++++++++++++++++++++++\n",
    "│++++++++++++++++++++++++++++++++++++++++++++++++++++++++++\n",
    "│++++++++++++++++++++++++++++++++++++++++++++++++++++++++++\n",
    "│\n",
    "└───tscore_volumes  <-------------------------------------- WILL BE DONE in 02\n",
    "│   │   tscore_SvB.tif <-----------------------------------\n",
    "└───spots\n",
    "│   └───imaris  <------------------------------------------ Manual Step: export the spots from Imaris\n",
    "│       │   └───tscore_SvB_Statistics\n",
    "│       │       │     tscore_SvB_Position.csv\n",
    "│       │       │     tscore_SvB_Diameter.csv\n",
    "│       │       │     ...\n",
    "│   └───signals  <----------------------------------------- WILL BE DONE in 03\n",
    "│       │   spots_SvB.json\n",
    "│   └───reports  <-----------------------------------------   \n",
    "│       └───all_significant  <-----------------------------    \n",
    "│           │   └───signals  <-----------------------------   \n",
    "│           │       │     ...\n",
    "│           │   └───images <-------------------------------    \n",
    "│           │       │     ...\n",
    "│       └───groupped  <------------------------------------    \n",
    "│           │   readme.txt  <------------------------------ Manual Step: export the spots from Imaris\n",
    "│           │   └───signals  <-----------------------------    \n",
    "│           │       │     ...\n",
    "│           │   └───images  <------------------------------    \n",
    "│           │       │     ...\n",
    "```\n",
    "# Set project folder\n",
    "Also, if the processed folder exists, it will complain ..."
   ]
  },
  {
   "cell_type": "code",
   "execution_count": 3,
   "id": "bba63983-c186-45a2-8e24-913465354f12",
   "metadata": {
    "pycharm": {
     "name": "#%%\n"
    }
   },
   "outputs": [],
   "source": [
    "# please provedi FULL, not relative, path to the folder \n",
    "project_folder = \"/home/ply/repos/numan/notebooks/vodex_si/data/\"\n",
    "project = nu.Project(project_folder)\n",
    "project.create(\"processed\")"
   ]
  },
  {
   "attachments": {},
   "cell_type": "markdown",
   "id": "cf7bad9f-c4ad-4628-b979-0a0a828fa630",
   "metadata": {
    "pycharm": {
     "name": "#%% md\n"
    }
   },
   "source": [
    "We will also set the processed directory as our working directory, this step is important , since all the paths later are relative to this folder. Verify that the output of the cell is the \"processed\" folder inside your project folder. "
   ]
  },
  {
   "cell_type": "code",
   "execution_count": 4,
   "id": "d5d736f2-2ade-41f1-87b2-132cc0dab2eb",
   "metadata": {
    "pycharm": {
     "name": "#%%\n"
    }
   },
   "outputs": [
    {
     "data": {
      "text/plain": [
       "'/home/ply/repos/numan/notebooks/vodex_si/data/processed'"
      ]
     },
     "execution_count": 4,
     "metadata": {},
     "output_type": "execute_result"
    }
   ],
   "source": [
    "project.activate(\"processed\")\n",
    "os.getcwd()"
   ]
  },
  {
   "attachments": {},
   "cell_type": "markdown",
   "id": "a4273882-09e6-48a1-ae05-18a63f5b5f70",
   "metadata": {
    "pycharm": {
     "name": "#%% md\n"
    }
   },
   "source": [
    "# Define experiment: \n",
    "\n",
    "* First you need to provide the path to the folder with the **raw data**, ```data_dir```. Note that by default the code will search for all the .tif files in that folder and will treat it as raw data. While you can exclude the unwanted files later, it is recommended that three is only raw tif data in that folder. Make sure to use either ```\\\\``` or ```/``` as a separator, not ```\\```, as it is an escape character in python.\n",
    "\n",
    "* provide the number of **frames per volume**\n",
    "\n",
    "* Then you need to define the **labels**.\n",
    "\n",
    "* Then, if your experiment has a **repeating cycle**, you will need to order labels as they appear in a cycle in and provide the corresponding duration for each label. Note that the duration is in frames, as they appear in your image data, not in seconds, not in volumes.\n",
    "\n",
    "This will initialise experiment and output the experiment information. Read it carefully! Make sure it is all as expected! Any mistake at this step will make all the future analysis wrong."
   ]
  },
  {
   "cell_type": "code",
   "execution_count": 14,
   "id": "0d0692e7-a75c-48eb-be7d-c12439e77abb",
   "metadata": {
    "pycharm": {
     "name": "#%%\n"
    }
   },
   "outputs": [
    {
     "name": "stdout",
     "output_type": "stream",
     "text": [
      "Image files information :\n",
      "\n",
      "files directory: ../20230207_hb02_casper_h2bcamp7f_5dpf_2P_1v2v3v4v5_1\n",
      "files [number of frames]: \n",
      "0) 20230207_hb02_casper_h2bcamp7f_5dpf_2P_1v2v3v4v5_1_MMStack_Pos0.ome.tif [8194]\n",
      "1) 20230207_hb02_casper_h2bcamp7f_5dpf_2P_1v2v3v4v5_1_MMStack_Pos0_01.ome.tif [8194]\n",
      "2) 20230207_hb02_casper_h2bcamp7f_5dpf_2P_1v2v3v4v5_1_MMStack_Pos0_02.ome.tif [8194]\n",
      "3) 20230207_hb02_casper_h2bcamp7f_5dpf_2P_1v2v3v4v5_1_MMStack_Pos0_03.ome.tif [8194]\n",
      "4) 20230207_hb02_casper_h2bcamp7f_5dpf_2P_1v2v3v4v5_1_MMStack_Pos0_04.ome.tif [8194]\n",
      "5) 20230207_hb02_casper_h2bcamp7f_5dpf_2P_1v2v3v4v5_1_MMStack_Pos0_05.ome.tif [8194]\n",
      "6) 20230207_hb02_casper_h2bcamp7f_5dpf_2P_1v2v3v4v5_1_MMStack_Pos0_06.ome.tif [8194]\n",
      "7) 20230207_hb02_casper_h2bcamp7f_5dpf_2P_1v2v3v4v5_1_MMStack_Pos0_07.ome.tif [8194]\n",
      "8) 20230207_hb02_casper_h2bcamp7f_5dpf_2P_1v2v3v4v5_1_MMStack_Pos0_08.ome.tif [8194]\n",
      "9) 20230207_hb02_casper_h2bcamp7f_5dpf_2P_1v2v3v4v5_1_MMStack_Pos0_09.ome.tif [8194]\n",
      "10) 20230207_hb02_casper_h2bcamp7f_5dpf_2P_1v2v3v4v5_1_MMStack_Pos0_10.ome.tif [8194]\n",
      "11) 20230207_hb02_casper_h2bcamp7f_5dpf_2P_1v2v3v4v5_1_MMStack_Pos0_11.ome.tif [8194]\n",
      "12) 20230207_hb02_casper_h2bcamp7f_5dpf_2P_1v2v3v4v5_1_MMStack_Pos0_12.ome.tif [8194]\n",
      "13) 20230207_hb02_casper_h2bcamp7f_5dpf_2P_1v2v3v4v5_1_MMStack_Pos0_13.ome.tif [8194]\n",
      "14) 20230207_hb02_casper_h2bcamp7f_5dpf_2P_1v2v3v4v5_1_MMStack_Pos0_14.ome.tif [8194]\n",
      "15) 20230207_hb02_casper_h2bcamp7f_5dpf_2P_1v2v3v4v5_1_MMStack_Pos0_15.ome.tif [8194]\n",
      "16) 20230207_hb02_casper_h2bcamp7f_5dpf_2P_1v2v3v4v5_1_MMStack_Pos0_16.ome.tif [1824]\n",
      "\n",
      "Total frames : 132928\n",
      "Volumes start on frame : 0\n",
      "Total good volumes : 1984\n",
      "Frames per volume : 67\n",
      "Tailing frames (not a full volume , at the end) : 0\n",
      "\n"
     ]
    }
   ],
   "source": [
    "# files info\n",
    "data_dir = \"../20230207_hb02_casper_h2bcamp7f_5dpf_2P_1v2v3v4v5_1/\"\n",
    "\n",
    "# volumes info\n",
    "frames_per_volume = 67\n",
    "# starting_slice is zero if the recording starts exactly at the beginning of a full volume, \n",
    "# must be set to a slice where the recording starts (zero-based), slices > 0 if the recording starts somewhere in the middle of the volume:\n",
    "starting_slice = 0 \n",
    "\n",
    "# initialise experiment\n",
    "experiment = vx.Experiment.from_dir(data_dir, frames_per_volume,starting_slice, verbose=True)"
   ]
  },
  {
   "attachments": {},
   "cell_type": "markdown",
   "id": "5e0f0008-6ef1-4280-9ba4-00e123068bc5",
   "metadata": {
    "pycharm": {
     "name": "#%% md\n"
    }
   },
   "source": [
    "**Make sure everything above is correct** and then , if it is , save it for future use.\n",
    "This will create a database, for more information see https://lemonjust.github.io/vodex/db/"
   ]
  },
  {
   "cell_type": "code",
   "execution_count": 6,
   "id": "b91e508d-a35b-4d10-b42e-097ac478fd49",
   "metadata": {
    "pycharm": {
     "name": "#%%\n"
    }
   },
   "outputs": [
    {
     "name": "stdout",
     "output_type": "stream",
     "text": [
      "Copied 2645 of 2645 pages...\n"
     ]
    }
   ],
   "source": [
    "experiment.save(\"experiment_raw.db\")"
   ]
  },
  {
   "attachments": {},
   "cell_type": "markdown",
   "id": "b15c2081-cfc0-442c-9178-1b4e127e7d53",
   "metadata": {
    "pycharm": {
     "name": "#%% md\n"
    }
   },
   "source": [
    "# Create dff movie"
   ]
  },
  {
   "cell_type": "code",
   "execution_count": 7,
   "id": "5caf43b4-22e7-4738-8830-f98d876c76b3",
   "metadata": {
    "pycharm": {
     "name": "#%%\n"
    },
    "tags": []
   },
   "outputs": [],
   "source": [
    "project.create(\"processed/dff_movie\")\n",
    "\n",
    "# batch size 25 takes about 30 Gb of RAM to process\n",
    "batch_size = 100 # in volumes\n",
    "window_size = 15 # in volumes"
   ]
  },
  {
   "cell_type": "code",
   "execution_count": 8,
   "id": "32b8bd42-49d7-49a7-827e-d860f50e1f0c",
   "metadata": {
    "pycharm": {
     "name": "#%%\n"
    }
   },
   "outputs": [
    {
     "name": "stderr",
     "output_type": "stream",
     "text": [
      "/home/ply/miniconda3/envs/numan/lib/python3.11/site-packages/vodex/experiment.py:601: UserWarning: list_volumes will be removed in vodex 1.1.0 use volumes property instead.\n",
      "  warnings.warn(f\"list_volumes will be removed in vodex 1.1.0 use volumes property instead.\")\n"
     ]
    },
    {
     "name": "stdout",
     "output_type": "stream",
     "text": [
      "written frames : 0 - 92, out of 1984\n",
      "written frames : 93 - 178, out of 1984\n",
      "written frames : 179 - 264, out of 1984\n",
      "written frames : 265 - 350, out of 1984\n",
      "written frames : 351 - 436, out of 1984\n",
      "written frames : 437 - 522, out of 1984\n",
      "written frames : 523 - 608, out of 1984\n",
      "written frames : 609 - 694, out of 1984\n",
      "written frames : 695 - 780, out of 1984\n",
      "written frames : 781 - 866, out of 1984\n",
      "written frames : 867 - 952, out of 1984\n",
      "written frames : 953 - 1038, out of 1984\n",
      "written frames : 1039 - 1124, out of 1984\n",
      "written frames : 1125 - 1210, out of 1984\n",
      "written frames : 1211 - 1296, out of 1984\n",
      "written frames : 1297 - 1382, out of 1984\n",
      "written frames : 1383 - 1468, out of 1984\n",
      "written frames : 1469 - 1554, out of 1984\n",
      "written frames : 1555 - 1640, out of 1984\n",
      "written frames : 1641 - 1726, out of 1984\n",
      "written frames : 1727 - 1812, out of 1984\n",
      "written frames : 1813 - 1898, out of 1984\n",
      "written frames : 1899 - 1983, out of 1984\n"
     ]
    }
   ],
   "source": [
    "nu.Preprocess(experiment).batch_dff('dff_movie',batch_size, window_size, blur_sigma = 1, verbose=True )"
   ]
  },
  {
   "attachments": {},
   "cell_type": "markdown",
   "id": "608fb189-627e-4239-b97a-10d3592f330c",
   "metadata": {
    "pycharm": {
     "name": "#%% md\n"
    }
   },
   "source": [
    "### Now cerate an experiment that uses dff_movie as the data\n",
    "Before we make a new experiment, let's close the databse connection of the existing one."
   ]
  },
  {
   "cell_type": "code",
   "execution_count": 12,
   "metadata": {
    "collapsed": false,
    "pycharm": {
     "name": "#%%\n"
    }
   },
   "outputs": [],
   "source": [
    "experiment.close()"
   ]
  },
  {
   "cell_type": "code",
   "execution_count": 15,
   "id": "f4712c1d-37cf-4e97-9e6e-40f6b68c0a4f",
   "metadata": {
    "pycharm": {
     "name": "#%%\n"
    }
   },
   "outputs": [
    {
     "name": "stdout",
     "output_type": "stream",
     "text": [
      "Image files information :\n",
      "\n",
      "files directory: dff_movie\n",
      "files [number of frames]: \n",
      "0) dff_movie_0000.tif [6231]\n",
      "1) dff_movie_0001.tif [5762]\n",
      "2) dff_movie_0002.tif [5762]\n",
      "3) dff_movie_0003.tif [5762]\n",
      "4) dff_movie_0004.tif [5762]\n",
      "5) dff_movie_0005.tif [5762]\n",
      "6) dff_movie_0006.tif [5762]\n",
      "7) dff_movie_0007.tif [5762]\n",
      "8) dff_movie_0008.tif [5762]\n",
      "9) dff_movie_0009.tif [5762]\n",
      "10) dff_movie_0010.tif [5762]\n",
      "11) dff_movie_0011.tif [5762]\n",
      "12) dff_movie_0012.tif [5762]\n",
      "13) dff_movie_0013.tif [5762]\n",
      "14) dff_movie_0014.tif [5762]\n",
      "15) dff_movie_0015.tif [5762]\n",
      "16) dff_movie_0016.tif [5762]\n",
      "17) dff_movie_0017.tif [5762]\n",
      "18) dff_movie_0018.tif [5762]\n",
      "19) dff_movie_0019.tif [5762]\n",
      "20) dff_movie_0020.tif [5762]\n",
      "21) dff_movie_0021.tif [5762]\n",
      "22) dff_movie_0022.tif [5695]\n",
      "\n",
      "Total frames : 132928\n",
      "Volumes start on frame : 0\n",
      "Total good volumes : 1984\n",
      "Frames per volume : 67\n",
      "Tailing frames (not a full volume , at the end) : 0\n",
      "\n"
     ]
    }
   ],
   "source": [
    "# update files info to use the new dff_movie folder instead of the original data_dir\n",
    "data_dir = \"dff_movie\"\n",
    "\n",
    "# create new experiment\n",
    "experiment = vx.Experiment.from_dir(data_dir, frames_per_volume, starting_slice, verbose=True)"
   ]
  },
  {
   "attachments": {},
   "cell_type": "markdown",
   "id": "84bee0b0-02fc-4a44-b791-718198a92513",
   "metadata": {
    "pycharm": {
     "name": "#%% md\n"
    }
   },
   "source": [
    "**Make sure everything except the filenames looks identical to the experiment we defined at the beginning** and then , if it does , save it for future use: "
   ]
  },
  {
   "cell_type": "code",
   "execution_count": 16,
   "metadata": {
    "collapsed": false,
    "pycharm": {
     "name": "#%%\n"
    }
   },
   "outputs": [
    {
     "name": "stdout",
     "output_type": "stream",
     "text": [
      "Copied 2643 of 2643 pages...\n"
     ]
    }
   ],
   "source": [
    "experiment.save(\"experiment_dff.db\")\n",
    "experiment.close()"
   ]
  }
 ],
 "metadata": {
  "kernelspec": {
   "display_name": "numan",
   "language": "python",
   "name": "python3"
  },
  "language_info": {
   "codemirror_mode": {
    "name": "ipython",
    "version": 3
   },
   "file_extension": ".py",
   "mimetype": "text/x-python",
   "name": "python",
   "nbconvert_exporter": "python",
   "pygments_lexer": "ipython3",
   "version": "3.11.3"
  },
  "vscode": {
   "interpreter": {
    "hash": "6249b6f06ab4a0845821264d60e7cf9277af2fa14153329fa82794ff3205396b"
   }
  }
 },
 "nbformat": 4,
 "nbformat_minor": 5
}
