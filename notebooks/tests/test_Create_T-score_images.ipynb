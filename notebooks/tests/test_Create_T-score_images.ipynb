{
 "cells": [
  {
   "cell_type": "code",
   "execution_count": 1,
   "id": "5a17f07e-e09c-4fba-9b41-87ffe1d7bfaa",
   "metadata": {
    "pycharm": {
     "name": "#%%\n"
    }
   },
   "outputs": [],
   "source": [
    "import numpy as np\n",
    "\n",
    "# plotting \n",
    "import matplotlib.pyplot as plt\n",
    "from mpl_toolkits.axes_grid1 import ImageGrid\n",
    "\n",
    "# data manager and analysis\n",
    "import vodex as vx\n",
    "import numan as nu\n",
    "\n",
    "# writing files\n",
    "import tifffile as tif"
   ]
  },
  {
   "cell_type": "markdown",
   "id": "a4273882-09e6-48a1-ae05-18a63f5b5f70",
   "metadata": {
    "pycharm": {
     "name": "#%% md\n"
    }
   },
   "source": [
    "# Define experiment:\n",
    "First get the files + frames + volume information with volume manager"
   ]
  },
  {
   "cell_type": "code",
   "execution_count": 2,
   "outputs": [
    {
     "data": {
      "text/plain": "Total frames : 42\nVolumes start on frame : 0\nTotal good volumes : 4\nFrames per volume : 10\nTailing frames (not a full volume , at the end) : 2"
     },
     "execution_count": 2,
     "metadata": {},
     "output_type": "execute_result"
    }
   ],
   "source": [
    "project_dir = 'D:/Code/repos/vodex/data/test/test_movie/'\n",
    "frames_per_volume = 10\n",
    "\n",
    "volume_m = vx.VolumeManager.from_dir(project_dir, frames_per_volume)\n",
    "volume_m"
   ],
   "metadata": {
    "collapsed": false,
    "pycharm": {
     "name": "#%%\n"
    }
   }
  },
  {
   "cell_type": "markdown",
   "source": [],
   "metadata": {
    "collapsed": false,
    "pycharm": {
     "name": "#%% md\n"
    }
   }
  },
  {
   "cell_type": "code",
   "execution_count": 3,
   "id": "0d0692e7-a75c-48eb-be7d-c12439e77abb",
   "metadata": {
    "pycharm": {
     "name": "#%%\n"
    }
   },
   "outputs": [
    {
     "name": "stdout",
     "output_type": "stream",
     "text": [
      "Label group : shape\n",
      "States:\n",
      "c : circle. Group: shape\n",
      "s : square. Group: shape\n",
      "\n",
      "Label group : light\n",
      "States:\n",
      "on : light is on. Group: light\n",
      "off : light is off. Group: light\n",
      "\n",
      "Label group : c label\n",
      "States:\n",
      "c1 : written c1. Group: c label\n",
      "c2 : written c1. Group: c label\n",
      "c3 : written c3. Group: c label\n",
      "\n"
     ]
    }
   ],
   "source": [
    "shape = vx.Labels(\"shape\", [\"c\", \"s\"],\n",
    "                    group_info=\"Information about the shape on the screen\",\n",
    "                    state_info={\"c\": \"circle\", \"s\": \"square\"})\n",
    "light = vx.Labels(\"light\", [\"on\", \"off\"],\n",
    "                    group_info=\"Information about the light\",\n",
    "                    state_info={\"on\": \"light is on\",\n",
    "                                \"off\": \"light is off\"})\n",
    "cnum = vx.Labels(\"c label\", ['c1', 'c2', 'c3'],\n",
    "                 group_info=\"C label on the screen\",\n",
    "                 state_info={'c1': 'written c1',\n",
    "                             'c2': 'written c1',\n",
    "                             'c3': 'written c3'})\n",
    "print(shape)\n",
    "print(light)\n",
    "print(cnum)"
   ]
  },
  {
   "cell_type": "code",
   "execution_count": 4,
   "outputs": [
    {
     "name": "stdout",
     "output_type": "stream",
     "text": [
      "Cycle : shape\n",
      "Length: 20\n",
      "Label c: for 5 frames\n",
      "Label s: for 10 frames\n",
      "Label c: for 5 frames\n",
      "\n",
      "Cycle : c label\n",
      "Length: 30\n",
      "Label c1: for 10 frames\n",
      "Label c2: for 10 frames\n",
      "Label c3: for 10 frames\n",
      "\n",
      "Timeline : light\n",
      "Length: 42\n",
      "Label off: for 10 frames\n",
      "Label on: for 20 frames\n",
      "Label off: for 12 frames\n",
      "\n"
     ]
    }
   ],
   "source": [
    "# Cycle (you need to specify the time coverage for one cycle only)\n",
    "# it takes two arguments:\n",
    "# the order of the labels in the cycle\n",
    "# and\n",
    "# the timing of each label presentation (in frames )\n",
    "shape_cycle = vx.Cycle(\n",
    "    [shape.c, shape.s, shape.c],\n",
    "    [5, 10, 5]\n",
    ")\n",
    "cnum_cycle = vx.Cycle(\n",
    "    [cnum.c1, cnum.c2, cnum.c3],\n",
    "    [10, 10, 10]\n",
    ")\n",
    "\n",
    "# Timeline (you need to specify the time coverage for the whole recording)\n",
    "# specify the order in which the labels follow\n",
    "# and\n",
    "# the timing of each label presentations ( in frames )\n",
    "light_tml = vx.Timeline(\n",
    "    [light.off, light.on, light.off],\n",
    "    [10, 20, 12]\n",
    ")\n",
    "\n",
    "print(shape_cycle)\n",
    "print(cnum_cycle)\n",
    "print(light_tml)"
   ],
   "metadata": {
    "collapsed": false,
    "pycharm": {
     "name": "#%%\n"
    }
   }
  },
  {
   "cell_type": "code",
   "execution_count": 5,
   "outputs": [
    {
     "name": "stdout",
     "output_type": "stream",
     "text": [
      "Annotation type: shape\n",
      "Total frames : 42\n",
      "\n",
      "Annotation type: c label\n",
      "Total frames : 42\n",
      "\n",
      "Annotation type: light\n",
      "Total frames : 42\n",
      "\n"
     ]
    }
   ],
   "source": [
    "# annotations use the labels, cycle or timing and total number of frames\n",
    "# you can get the total number of frames in the recording from the volume manager :\n",
    "n_frames = volume_m.n_frames # 42\n",
    "shape_an = vx.Annotation.from_cycle(n_frames, shape, shape_cycle)\n",
    "cnum_an = vx.Annotation.from_cycle(n_frames, cnum, cnum_cycle)\n",
    "light_an = vx.Annotation.from_timeline(n_frames, light, light_tml)\n",
    "\n",
    "print(shape_an)\n",
    "print(cnum_an)\n",
    "print(light_an)"
   ],
   "metadata": {
    "collapsed": false,
    "pycharm": {
     "name": "#%%\n"
    }
   }
  },
  {
   "cell_type": "code",
   "execution_count": 6,
   "outputs": [
    {
     "name": "stdout",
     "output_type": "stream",
     "text": [
      "Image files information :\n",
      "\n",
      "files directory: D:\\Code\\repos\\vodex\\data\\test\\test_movie\n",
      "files [number of frames]: \n",
      "0) mov0.tif [7]\n",
      "1) mov1.tif [18]\n",
      "2) mov2.tif [17]\n",
      "\n",
      "Total frames : 42\n",
      "Volumes start on frame : 0\n",
      "Total good volumes : 4\n",
      "Frames per volume : 10\n",
      "Tailing frames (not a full volume , at the end) : 2\n",
      "\n",
      "Annotation type: shape\n",
      "Total frames : 42\n",
      "\n",
      "Timeline : shape\n",
      "Length: 42\n",
      "Label c: for 5 frames\n",
      "Label s: for 10 frames\n",
      "Label c: for 10 frames\n",
      "Label s: for 10 frames\n",
      "Label c: for 7 frames\n",
      "\n",
      "Annotation type: c label\n",
      "Total frames : 42\n",
      "\n",
      "Timeline : c label\n",
      "Length: 42\n",
      "Label c1: for 10 frames\n",
      "Label c2: for 10 frames\n",
      "Label c3: for 10 frames\n",
      "Label c1: for 10 frames\n",
      "Label c2: for 2 frames\n",
      "\n",
      "Annotation type: light\n",
      "Total frames : 42\n",
      "\n",
      "Timeline : light\n",
      "Length: 42\n",
      "Label off: for 10 frames\n",
      "Label on: for 20 frames\n",
      "Label off: for 12 frames\n",
      "\n"
     ]
    }
   ],
   "source": [
    "# finally put all the information together\n",
    "experiment = vx.Experiment.create(volume_m, [shape_an, cnum_an, light_an], verbose = True)"
   ],
   "metadata": {
    "collapsed": false,
    "pycharm": {
     "name": "#%%\n"
    }
   }
  },
  {
   "cell_type": "markdown",
   "id": "b15c2081-cfc0-442c-9178-1b4e127e7d53",
   "metadata": {
    "pycharm": {
     "name": "#%% md\n"
    }
   },
   "source": [
    "# Create dff movie"
   ]
  },
  {
   "cell_type": "code",
   "execution_count": 7,
   "id": "5caf43b4-22e7-4738-8830-f98d876c76b3",
   "metadata": {
    "tags": [],
    "pycharm": {
     "name": "#%%\n"
    }
   },
   "outputs": [
    {
     "name": "stdout",
     "output_type": "stream",
     "text": [
      "written frames : 0 - 1, out of 4\n",
      "written frames : 2 - 3, out of 4\n"
     ]
    },
    {
     "name": "stderr",
     "output_type": "stream",
     "text": [
      "D:\\Code\\repos\\numan\\src\\numan\\analysis.py:702: UserWarning: The are some frames at the end of the recording that don't correspond to a full volume and will be dropped.\n",
      "  warnings.warn(f\"The are some frames at the end of the recording \"\n",
      "D:\\Code\\repos\\numan\\src\\numan\\utils.py:72: UserWarning: 178092 baseline values are zero.\n",
      "Setting these values to 10^(-6) to avoid dividing by zero.\n",
      "  warnings.warn(f\"{np.sum(b_zero)} baseline values are zero.\\n\"\n",
      "D:\\Code\\repos\\numan\\src\\numan\\utils.py:72: UserWarning: 177477 baseline values are zero.\n",
      "Setting these values to 10^(-6) to avoid dividing by zero.\n",
      "  warnings.warn(f\"{np.sum(b_zero)} baseline values are zero.\\n\"\n"
     ]
    }
   ],
   "source": [
    "save_dir = 'D:/Code/repos/numan/data/test/dff/'\n",
    "batch_size = 3 # in volumes\n",
    "window_size = 3 # in volumes\n",
    "nu.Preprocess(experiment).batch_dff(save_dir,batch_size, window_size, verbose=True )"
   ]
  },
  {
   "cell_type": "markdown",
   "id": "a2e9a23a-252e-473e-ae1e-506f39cb8f65",
   "metadata": {
    "pycharm": {
     "name": "#%% md\n"
    }
   },
   "source": [
    "# Create T-Score Image"
   ]
  },
  {
   "cell_type": "markdown",
   "id": "68269cdd-1f8b-44d9-a34b-d08d1c673e5e",
   "metadata": {
    "pycharm": {
     "name": "#%% md\n"
    }
   },
   "source": [
    "## get the volumes corresponding to different conditions\n",
    "You can ask for different combinations of labels, using \"and\" or \"or\" logic"
   ]
  },
  {
   "cell_type": "code",
   "execution_count": 8,
   "id": "e2c02b3e-2349-4eb0-a5ca-778d13ac8d9e",
   "metadata": {
    "pycharm": {
     "name": "#%%\n"
    }
   },
   "outputs": [
    {
     "name": "stdout",
     "output_type": "stream",
     "text": [
      "Full volumes corresponding to specific shape: [], []. There are no such volumes!\n",
      "Full volumes corresponding to specific c_label: [0, 3], [1], [2]\n",
      "Full volumes corresponding to specific light: [1, 2], [0, 3]\n",
      "Full volumes corresponding to light on AND c_label c2: [1]\n",
      "Full volumes corresponding to light on OR c_label c2: [1, 2]\n"
     ]
    }
   ],
   "source": [
    "# indexes of the volumes to load\n",
    "c_idx = experiment.choose_volumes([(\"shape\",\"c\")])\n",
    "s_idx = experiment.choose_volumes([(\"shape\",\"s\")])\n",
    "\n",
    "c1_idx = experiment.choose_volumes([(\"c label\",\"c1\")])\n",
    "c2_idx = experiment.choose_volumes([(\"c label\",\"c2\")])\n",
    "c3_idx = experiment.choose_volumes([(\"c label\",\"c3\")])\n",
    "\n",
    "on_idx = experiment.choose_volumes([(\"light\",\"on\")])\n",
    "off_idx = experiment.choose_volumes([(\"light\",\"off\")])\n",
    "\n",
    "on_and_c2_idx = experiment.choose_volumes([(\"light\",\"on\"),(\"c label\",\"c2\")], logic = \"and\")\n",
    "on_or_c2_idx = experiment.choose_volumes([(\"light\",\"on\"),(\"c label\",\"c2\")], logic = \"or\")\n",
    "\n",
    "print(f\"Full volumes corresponding to specific shape: {c_idx}, {s_idx}. \"\n",
    "      f\"There are no such volumes!\")\n",
    "print(f\"Full volumes corresponding to specific c_label: {c1_idx}, {c2_idx}, {c3_idx}\")\n",
    "print(f\"Full volumes corresponding to specific light: {on_idx}, {off_idx}\")\n",
    "\n",
    "print(f\"Full volumes corresponding to light on AND c_label c2: {on_and_c2_idx}\")\n",
    "print(f\"Full volumes corresponding to light on OR c_label c2: {on_or_c2_idx}\")"
   ]
  },
  {
   "cell_type": "markdown",
   "source": [
    "Let's assume we want to build a t-score based on c label:"
   ],
   "metadata": {
    "collapsed": false,
    "pycharm": {
     "name": "#%% md\n"
    }
   }
  },
  {
   "cell_type": "code",
   "execution_count": 9,
   "id": "229e034a-ef8e-443c-9178-5c4307f64299",
   "metadata": {
    "tags": [],
    "pycharm": {
     "name": "#%%\n"
    }
   },
   "outputs": [
    {
     "name": "stderr",
     "output_type": "stream",
     "text": [
      "100%|██████████| 20/20 [00:00<00:00, 3325.12frames/s]\n",
      "100%|██████████| 10/10 [00:00<00:00, 2512.46frames/s]\n",
      "100%|██████████| 10/10 [00:00<00:00, 2506.16frames/s]\n"
     ]
    },
    {
     "data": {
      "text/plain": "(2, 10, 200, 200)"
     },
     "execution_count": 9,
     "metadata": {},
     "output_type": "execute_result"
    }
   ],
   "source": [
    "# load the volumes \n",
    "c1_volumes = experiment.load_volumes(c1_idx, verbose = True)\n",
    "c2_volumes = experiment.load_volumes(c2_idx, verbose = True)\n",
    "c3_volumes = experiment.load_volumes(c3_idx, verbose = True)\n",
    "c1_volumes.shape"
   ]
  },
  {
   "cell_type": "code",
   "execution_count": 10,
   "outputs": [
    {
     "data": {
      "text/plain": "<Figure size 432x288 with 3 Axes>",
      "image/png": "[encoded data removed]"
     },
     "metadata": {
      "needs_background": "light"
     },
     "output_type": "display_data"
    }
   ],
   "source": [
    "# check a random slice of a volume, make sure it looks as expected ...\n",
    "plt.subplot(1,3,1);\n",
    "plt.imshow(c1_volumes[0,5,:,:]);\n",
    "plt.subplot(1,3,2);\n",
    "plt.imshow(c2_volumes[0,5,:,:]);\n",
    "plt.subplot(1,3,3);\n",
    "plt.imshow(c3_volumes[0,5,:,:]);"
   ],
   "metadata": {
    "collapsed": false,
    "pycharm": {
     "name": "#%%\n"
    }
   }
  },
  {
   "cell_type": "markdown",
   "source": [
    "### Now set the dff as data :"
   ],
   "metadata": {
    "collapsed": false,
    "pycharm": {
     "name": "#%% md\n"
    }
   }
  },
  {
   "cell_type": "code",
   "execution_count": 11,
   "outputs": [
    {
     "data": {
      "text/plain": "Total frames : 40\nVolumes start on frame : 0\nTotal good volumes : 4\nFrames per volume : 10\nTailing frames (not a full volume , at the end) : 0"
     },
     "execution_count": 11,
     "metadata": {},
     "output_type": "execute_result"
    }
   ],
   "source": [
    "# get information about the frames and volumes in the new movie:\n",
    "project_dir = 'D:/Code/repos/numan/data/test/dff/'\n",
    "volume_m = vx.VolumeManager.from_dir(project_dir, frames_per_volume)\n",
    "volume_m"
   ],
   "metadata": {
    "collapsed": false,
    "pycharm": {
     "name": "#%%\n"
    }
   }
  },
  {
   "cell_type": "code",
   "execution_count": 12,
   "outputs": [
    {
     "name": "stdout",
     "output_type": "stream",
     "text": [
      "Image files information :\n",
      "\n",
      "files directory: D:\\Code\\repos\\numan\\data\\test\\dff\n",
      "files [number of frames]: \n",
      "0) dff_movie_0000.tif [20]\n",
      "1) dff_movie_0001.tif [20]\n",
      "\n",
      "Total frames : 40\n",
      "Volumes start on frame : 0\n",
      "Total good volumes : 4\n",
      "Frames per volume : 10\n",
      "Tailing frames (not a full volume , at the end) : 0\n",
      "\n",
      "Annotation type: shape\n",
      "Total frames : 40\n",
      "\n",
      "Timeline : shape\n",
      "Length: 40\n",
      "Label c: for 5 frames\n",
      "Label s: for 10 frames\n",
      "Label c: for 10 frames\n",
      "Label s: for 10 frames\n",
      "Label c: for 5 frames\n",
      "\n",
      "Annotation type: c label\n",
      "Total frames : 40\n",
      "\n",
      "Timeline : c label\n",
      "Length: 40\n",
      "Label c1: for 10 frames\n",
      "Label c2: for 10 frames\n",
      "Label c3: for 10 frames\n",
      "Label c1: for 10 frames\n",
      "\n",
      "Annotation type: light\n",
      "Total frames : 40\n",
      "\n",
      "Timeline : light\n",
      "Length: 40\n",
      "Label off: for 10 frames\n",
      "Label on: for 20 frames\n",
      "Label off: for 10 frames\n",
      "\n"
     ]
    }
   ],
   "source": [
    "# Note that the number of frames changed!\n",
    "# That is because we dropped some frames at the end\n",
    "# ( that were not enough to make a full volume)\n",
    "# The cycles will automatically cover all the frames in the movie,\n",
    "# but the Timeline needs to be manually adjusted:\n",
    "light_tml = vx.Timeline(\n",
    "    [light.off, light.on, light.off],\n",
    "    [10, 20, 10]\n",
    ")\n",
    "\n",
    "n_frames = volume_m.n_frames # 40\n",
    "shape_an = vx.Annotation.from_cycle(n_frames, shape, shape_cycle)\n",
    "cnum_an = vx.Annotation.from_cycle(n_frames, cnum, cnum_cycle)\n",
    "light_an = vx.Annotation.from_timeline(n_frames, light, light_tml)\n",
    "\n",
    "experiment = vx.Experiment.create(volume_m, [shape_an, cnum_an, light_an], verbose = True)"
   ],
   "metadata": {
    "collapsed": false,
    "pycharm": {
     "name": "#%%\n"
    }
   }
  },
  {
   "cell_type": "markdown",
   "source": [
    "Let's have a look at the images that correspond to the c1, c2 and c3 after dff :"
   ],
   "metadata": {
    "collapsed": false,
    "pycharm": {
     "name": "#%% md\n"
    }
   }
  },
  {
   "cell_type": "code",
   "execution_count": 13,
   "outputs": [
    {
     "name": "stderr",
     "output_type": "stream",
     "text": [
      "100%|██████████| 20/20 [00:00<00:00, 3366.35frames/s]\n",
      "100%|██████████| 10/10 [00:00<00:00, 3342.61frames/s]\n",
      "100%|██████████| 10/10 [00:00<00:00, 3305.99frames/s]\n"
     ]
    },
    {
     "data": {
      "text/plain": "<Figure size 432x288 with 3 Axes>",
      "image/png": "[encoded data removed]"
     },
     "metadata": {
      "needs_background": "light"
     },
     "output_type": "display_data"
    }
   ],
   "source": [
    "c1_idx = experiment.choose_volumes([(\"c label\",\"c1\")])\n",
    "c2_idx = experiment.choose_volumes([(\"c label\",\"c2\")])\n",
    "c3_idx = experiment.choose_volumes([(\"c label\",\"c3\")])\n",
    "\n",
    "# load the volumes\n",
    "c1_volumes = experiment.load_volumes(c1_idx, verbose = True)\n",
    "c2_volumes = experiment.load_volumes(c2_idx, verbose = True)\n",
    "c3_volumes = experiment.load_volumes(c3_idx, verbose = True)\n",
    "\n",
    "# check a random slice of a volume, make sure it looks as expected ...\n",
    "plt.subplot(1,3,1);\n",
    "plt.imshow(c1_volumes[0,5,:,:]);\n",
    "plt.subplot(1,3,2);\n",
    "plt.imshow(c2_volumes[0,5,:,:]);\n",
    "plt.subplot(1,3,3);\n",
    "plt.imshow(c3_volumes[0,5,:,:]);"
   ],
   "metadata": {
    "collapsed": false,
    "pycharm": {
     "name": "#%%\n"
    }
   }
  },
  {
   "cell_type": "markdown",
   "id": "90fb47b8-6b01-4040-9195-c7e99809e375",
   "metadata": {
    "pycharm": {
     "name": "#%% md\n"
    }
   },
   "source": [
    "## calculate and write t-score and diff images \n",
    "\n",
    "### Example: c1 vs c2"
   ]
  },
  {
   "cell_type": "code",
   "execution_count": 16,
   "outputs": [
    {
     "name": "stdout",
     "output_type": "stream",
     "text": [
      "max t-image value : 1000.0, diff image : 5928600.0\n"
     ]
    }
   ],
   "source": [
    "# multiply difference image and t-score image by this constants before turning into integer and writing... \n",
    "T_SCALE = 1000\n",
    "DIFF_SCALE = 100 \n",
    "\n",
    "t_img = nu.get_t_score(c1_volumes, c2_volumes, absolute = True)*T_SCALE\n",
    "diff = nu.get_diff(c1_volumes, c2_volumes, absolute = True)*DIFF_SCALE\n",
    "\n",
    "tif.imwrite('D:/Code/repos/numan/data/test/t_score/c1_vs_c2_t_score.tif',\n",
    "           t_img.astype(np.uint16),shape=(10,200,200),metadata={'axes': 'ZYX'}, imagej=True)\n",
    "tif.imwrite('D:/Code/repos/numan/data/test/diff/c1_vs_c2_diff.tif',\n",
    "           diff.astype(np.uint16),shape=(10,200,200),metadata={'axes': 'ZYX'}, imagej=True)\n",
    "\n",
    "print(f'max t-image value : {t_img.max()}, diff image : {diff.max()}')"
   ],
   "metadata": {
    "collapsed": false,
    "pycharm": {
     "name": "#%%\n"
    }
   }
  },
  {
   "cell_type": "code",
   "execution_count": null,
   "outputs": [],
   "source": [],
   "metadata": {
    "collapsed": false,
    "pycharm": {
     "name": "#%%\n"
    }
   }
  }
 ],
 "metadata": {
  "kernelspec": {
   "name": "conda-env-numan-py",
   "language": "python",
   "display_name": "Python [conda env:numan]"
  },
  "language_info": {
   "codemirror_mode": {
    "name": "ipython",
    "version": 3
   },
   "file_extension": ".py",
   "mimetype": "text/x-python",
   "name": "python",
   "nbconvert_exporter": "python",
   "pygments_lexer": "ipython3",
   "version": "3.9.12"
  }
 },
 "nbformat": 4,
 "nbformat_minor": 5
}