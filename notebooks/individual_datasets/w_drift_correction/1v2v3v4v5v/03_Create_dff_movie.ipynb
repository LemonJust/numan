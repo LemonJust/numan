{
 "cells": [
  {
   "cell_type": "code",
   "execution_count": 1,
   "id": "5a17f07e-e09c-4fba-9b41-87ffe1d7bfaa",
   "metadata": {
    "ExecuteTime": {
     "end_time": "2023-06-23T03:00:38.543362200Z",
     "start_time": "2023-06-23T03:00:34.877714700Z"
    },
    "pycharm": {
     "name": "#%%\n"
    }
   },
   "outputs": [
    {
     "name": "stderr",
     "output_type": "stream",
     "text": [
      "Matplotlib created a temporary config/cache directory at /tmp/matplotlib-lajqxkq_ because the default path (/home/ply/.config/matplotlib) is not a writable directory; it is highly recommended to set the MPLCONFIGDIR environment variable to a writable directory, in particular to speed up the import of Matplotlib and to better support multiprocessing.\n"
     ]
    }
   ],
   "source": [
    "import numpy as np\n",
    "import tifffile as tif\n",
    "import os\n",
    "\n",
    "# data manager and analysis\n",
    "import vodex as vx\n",
    "import numan as nu\n",
    "import pandas as pd"
   ]
  },
  {
   "attachments": {},
   "cell_type": "markdown",
   "id": "fcf69bf2",
   "metadata": {},
   "source": [
    "Get the project directory:"
   ]
  },
  {
   "cell_type": "code",
   "execution_count": 2,
   "id": "bba63983-c186-45a2-8e24-913465354f12",
   "metadata": {
    "ExecuteTime": {
     "end_time": "2023-06-23T03:00:40.085886600Z",
     "start_time": "2023-06-23T03:00:40.079886Z"
    },
    "pycharm": {
     "name": "#%%\n"
    }
   },
   "outputs": [],
   "source": [
    "# please provedi FULL, not relative, path to the folder \n",
    "project_folder = \"/home/ply/repos/numan_dev/numan/data/hz09\"\n",
    "project = nu.Project(project_folder)\n",
    "\n",
    "project.check_exists(\"processed/drift_corrected_af_to1000\")"
   ]
  },
  {
   "attachments": {},
   "cell_type": "markdown",
   "id": "cf7bad9f-c4ad-4628-b979-0a0a828fa630",
   "metadata": {
    "pycharm": {
     "name": "#%% md\n"
    }
   },
   "source": [
    "We will also set the processed directory as our working directory, this step is important , since all the paths later are relative to this folder. Verify that the output of the cell is the \"processed\" folder inside your project folder. "
   ]
  },
  {
   "cell_type": "code",
   "execution_count": 3,
   "id": "d5d736f2-2ade-41f1-87b2-132cc0dab2eb",
   "metadata": {
    "ExecuteTime": {
     "end_time": "2023-06-23T03:00:42.600462700Z",
     "start_time": "2023-06-23T03:00:42.545737300Z"
    },
    "pycharm": {
     "name": "#%%\n"
    }
   },
   "outputs": [
    {
     "data": {
      "text/plain": [
       "'/home/ply/repos/numan_dev/numan/data/hz09/processed'"
      ]
     },
     "execution_count": 3,
     "metadata": {},
     "output_type": "execute_result"
    }
   ],
   "source": [
    "project.activate(\"processed\")\n",
    "os.getcwd()"
   ]
  },
  {
   "attachments": {},
   "cell_type": "markdown",
   "id": "a4273882-09e6-48a1-ae05-18a63f5b5f70",
   "metadata": {
    "pycharm": {
     "name": "#%% md\n"
    }
   },
   "source": [
    "# Load experiment: \n",
    "\n",
    "* Use drift corrected data"
   ]
  },
  {
   "cell_type": "code",
   "execution_count": 4,
   "id": "7fa59ac2",
   "metadata": {},
   "outputs": [
    {
     "data": {
      "text/plain": [
       "array([ 6,  7,  8,  9, 10, 11, 12, 13, 14])"
      ]
     },
     "execution_count": 4,
     "metadata": {},
     "output_type": "execute_result"
    }
   ],
   "source": [
    "experiment = vx.Experiment.load(\"experiment_truncated_drift_corrected.db\")"
   ]
  },
  {
   "attachments": {},
   "cell_type": "markdown",
   "id": "b15c2081-cfc0-442c-9178-1b4e127e7d53",
   "metadata": {
    "pycharm": {
     "name": "#%% md\n"
    }
   },
   "source": [
    "# Create dff movie"
   ]
  },
  {
   "cell_type": "code",
   "execution_count": 6,
   "id": "5caf43b4-22e7-4738-8830-f98d876c76b3",
   "metadata": {
    "pycharm": {
     "name": "#%%\n"
    },
    "tags": []
   },
   "outputs": [],
   "source": [
    "project.create(\"processed/dff_movie\")"
   ]
  },
  {
   "cell_type": "code",
   "execution_count": 7,
   "id": "32b8bd42-49d7-49a7-827e-d860f50e1f0c",
   "metadata": {
    "pycharm": {
     "name": "#%%\n"
    }
   },
   "outputs": [
    {
     "name": "stderr",
     "output_type": "stream",
     "text": [
      "/home/ply/miniconda3/envs/numan_dev/lib/python3.10/site-packages/vodex/experiment.py:601: UserWarning:\n",
      "\n",
      "list_volumes will be removed in vodex 1.1.0 use volumes property instead.\n",
      "\n",
      " 91%|█████████ | 10/11 [07:15<00:43, 43.52s/it]\n"
     ]
    }
   ],
   "source": [
    "# batch size 25 takes about 30 Gb of RAM to process\n",
    "batch_size = 198 # in volumes, needs to be divisible by step_size so it's 198 and not 200\n",
    "step_size = 9 # in volumes\n",
    "baseline_volumes = [0,1,2]\n",
    "spacing_xyz = [1.62, 1.62, 3.83] # in um\n",
    "\n",
    "nu.Preprocess(experiment).calculate_dff(\"dff_movie\", batch_size, step_size, baseline_volumes,\n",
    "                      resolution_xyz = spacing_xyz, blur_sigma=1, \n",
    "                      verbose=False, save_baseline=True)"
   ]
  },
  {
   "attachments": {},
   "cell_type": "markdown",
   "id": "608fb189-627e-4239-b97a-10d3592f330c",
   "metadata": {
    "pycharm": {
     "name": "#%% md\n"
    }
   },
   "source": [
    "### Now cerate an experiment that uses dff_movie as the data\n",
    "Before we make a new experiment, let's close the databse connection of the existing one."
   ]
  },
  {
   "cell_type": "code",
   "execution_count": null,
   "id": "ae30f671",
   "metadata": {},
   "outputs": [],
   "source": [
    "# update files info to use the new removed_offset folder instead of the original raw data\n",
    "data_dir = \"dff_movie\"\n",
    "\n",
    "# volumes info is the same as in the original experiment\n",
    "frames_per_volume = experiment.frames_per_volume\n",
    "starting_slice = experiment.starting_slice\n",
    "\n",
    "# close the old experiment\n",
    "experiment.close()\n",
    "# create new experiment\n",
    "experiment = vx.Experiment.from_dir(data_dir, frames_per_volume, starting_slice, verbose=True)\n",
    "# add time annotation \n",
    "stimuli_volumes_df = pd.read_csv(\"stimuli_truncated_timelines.csv\")\n",
    "experiment.add_annotations_from_volume_annotation_df(stimuli_volumes_df)\n",
    "\n",
    "# for now there will be no description of the labels when adding them from the volume annotation df\n",
    "# so you will see description : None for all labels in the labels_df\n",
    "# will add this option in later versions of vodex\n",
    "experiment.labels_df"
   ]
  },
  {
   "attachments": {},
   "cell_type": "markdown",
   "id": "84bee0b0-02fc-4a44-b791-718198a92513",
   "metadata": {
    "pycharm": {
     "name": "#%% md\n"
    }
   },
   "source": [
    "**Make sure everything except the filenames looks identical to the experiment we defined at the beginning** and then , if it does , save it for future use: "
   ]
  },
  {
   "cell_type": "code",
   "execution_count": 16,
   "metadata": {
    "collapsed": false,
    "pycharm": {
     "name": "#%%\n"
    }
   },
   "outputs": [
    {
     "name": "stdout",
     "output_type": "stream",
     "text": [
      "Copied 2643 of 2643 pages...\n"
     ]
    }
   ],
   "source": [
    "experiment.save(\"experiment_dff.db\")\n",
    "experiment.close()"
   ]
  }
 ],
 "metadata": {
  "kernelspec": {
   "display_name": "numan_dev",
   "language": "python",
   "name": "python3"
  },
  "language_info": {
   "codemirror_mode": {
    "name": "ipython",
    "version": 3
   },
   "file_extension": ".py",
   "mimetype": "text/x-python",
   "name": "python",
   "nbconvert_exporter": "python",
   "pygments_lexer": "ipython3",
   "version": "3.10.11"
  }
 },
 "nbformat": 4,
 "nbformat_minor": 5
}
