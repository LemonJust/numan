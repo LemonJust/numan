{
 "cells": [
  {
   "cell_type": "code",
   "execution_count": 1,
   "metadata": {
    "collapsed": true,
    "pycharm": {
     "name": "#%%\n"
    }
   },
   "outputs": [],
   "source": [
    "import numan as nu"
   ]
  },
  {
   "cell_type": "code",
   "execution_count": 2,
   "outputs": [],
   "source": [
    "notebooks = [\n",
    "            \"01_Define experiment_and_create_dff_movie.ipynb\",\n",
    "            \"02_Create_t-score_and diff_images.ipynb\",\n",
    "            \"03_Extract_cell_signals.ipynb\",\n",
    "            \"04_Find_significant_cells.ipynb\",\n",
    "            \"05_Plot_significant_signals.ipynb\"\n",
    "            ]"
   ],
   "metadata": {
    "collapsed": false,
    "pycharm": {
     "name": "#%%\n"
    }
   }
  },
  {
   "cell_type": "markdown",
   "source": [
    "You will need to have the ipython kernel installed in the enviroment from where you are running all the notebooks.\n",
    "To install the kernel ( only need to do it once ), with your ```numan``` environment activated, run:\n",
    "```ipython kernel install --user --name=numan```"
   ],
   "metadata": {
    "collapsed": false,
    "pycharm": {
     "name": "#%% md\n"
    }
   }
  },
  {
   "cell_type": "code",
   "execution_count": 4,
   "outputs": [
    {
     "name": "stdout",
     "output_type": "stream",
     "text": [
      "Notebook done_01_Define experiment_and_create_dff_movie.ipynb already exists, skipping 01_Define experiment_and_create_dff_movie.ipynb\n",
      "\n",
      "Notebook done_02_Create_t-score_and diff_images.ipynb already exists, skipping 02_Create_t-score_and diff_images.ipynb\n",
      "\n"
     ]
    }
   ],
   "source": [
    "nu.run_notebooks(notebooks,\n",
    "                 notebooks_before_manual=[\"02_Create_t-score_and diff_images.ipynb\"],\n",
    "                 notify=True, tag_users=[\"peter\"], rerun=False)"
   ],
   "metadata": {
    "collapsed": false,
    "pycharm": {
     "name": "#%%\n"
    }
   }
  },
  {
   "cell_type": "code",
   "execution_count": null,
   "outputs": [],
   "source": [],
   "metadata": {
    "collapsed": false,
    "pycharm": {
     "name": "#%%\n"
    }
   }
  }
 ],
 "metadata": {
  "kernelspec": {
   "name": "numan",
   "language": "python",
   "display_name": "numan"
  },
  "language_info": {
   "codemirror_mode": {
    "name": "ipython",
    "version": 2
   },
   "file_extension": ".py",
   "mimetype": "text/x-python",
   "name": "python",
   "nbconvert_exporter": "python",
   "pygments_lexer": "ipython2",
   "version": "2.7.6"
  }
 },
 "nbformat": 4,
 "nbformat_minor": 0
}