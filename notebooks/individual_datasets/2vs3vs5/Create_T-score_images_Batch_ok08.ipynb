{
 "cells": [
  {
   "cell_type": "code",
   "execution_count": 1,
   "id": "5a17f07e-e09c-4fba-9b41-87ffe1d7bfaa",
   "metadata": {},
   "outputs": [],
   "source": [
    "import numpy as np\n",
    "\n",
    "# plotting \n",
    "import matplotlib.pyplot as plt\n",
    "from mpl_toolkits.axes_grid1 import ImageGrid\n",
    "\n",
    "# data manager and analysis\n",
    "import vodex as vx\n",
    "import numan as nu\n",
    "\n",
    "# writing files\n",
    "import tifffile as tif"
   ]
  },
  {
   "cell_type": "markdown",
   "id": "a4273882-09e6-48a1-ae05-18a63f5b5f70",
   "metadata": {},
   "source": [
    "# Define experiment: "
   ]
  },
  {
   "cell_type": "code",
   "execution_count": 2,
   "id": "0d0692e7-a75c-48eb-be7d-c12439e77abb",
   "metadata": {},
   "outputs": [
    {
     "name": "stdout",
     "output_type": "stream",
     "text": [
      "Total of 8 files.\n",
      "Check the order :\n",
      "[ 0 ] 20220421_ok08_abtl_h2bcamp6s_9dpf_2v3v5_2P_1_MMStack_Pos0.ome.tif : 8910 frames\n",
      "[ 1 ] 20220421_ok08_abtl_h2bcamp6s_9dpf_2v3v5_2P_1_MMStack_Pos0_1.ome.tif : 8909 frames\n",
      "[ 2 ] 20220421_ok08_abtl_h2bcamp6s_9dpf_2v3v5_2P_1_MMStack_Pos0_2.ome.tif : 8909 frames\n",
      "[ 3 ] 20220421_ok08_abtl_h2bcamp6s_9dpf_2v3v5_2P_1_MMStack_Pos0_3.ome.tif : 8909 frames\n",
      "[ 4 ] 20220421_ok08_abtl_h2bcamp6s_9dpf_2v3v5_2P_1_MMStack_Pos0_4.ome.tif : 8909 frames\n",
      "[ 5 ] 20220421_ok08_abtl_h2bcamp6s_9dpf_2v3v5_2P_1_MMStack_Pos0_5.ome.tif : 8909 frames\n",
      "[ 6 ] 20220421_ok08_abtl_h2bcamp6s_9dpf_2v3v5_2P_1_MMStack_Pos0_6.ome.tif : 8909 frames\n",
      "[ 7 ] 20220421_ok08_abtl_h2bcamp6s_9dpf_2v3v5_2P_1_MMStack_Pos0_7.ome.tif : 4092 frames\n",
      "\n",
      "Cycle length: 3692\n",
      "Condition ['blank']: for 364 frames\n",
      "Condition ['3dot']: for 52 frames\n",
      "Condition ['blank']: for 260 frames\n",
      "Condition ['2dot']: for 52 frames\n",
      "Condition ['blank']: for 312 frames\n",
      "Condition ['5dot']: for 52 frames\n",
      "Condition ['blank']: for 312 frames\n",
      "Condition ['2dot']: for 52 frames\n",
      "Condition ['blank']: for 468 frames\n",
      "Condition ['3dot']: for 52 frames\n",
      "Condition ['blank']: for 260 frames\n",
      "Condition ['2dot']: for 52 frames\n",
      "Condition ['blank']: for 468 frames\n",
      "Condition ['5dot']: for 52 frames\n",
      "Condition ['blank']: for 312 frames\n",
      "Condition ['3dot']: for 52 frames\n",
      "Condition ['blank']: for 468 frames\n",
      "Condition ['5dot']: for 52 frames\n",
      "\n",
      "Total cycles (ceil): 18\n",
      "Total frames : 66456\n",
      "Total good volumes : 1278\n",
      "Frames per volume : 52\n",
      "\n"
     ]
    }
   ],
   "source": [
    "blank = vx.Condition(vx.Stimulus('blank','blank'))\n",
    "dot2 = vx.Condition(vx.Stimulus('2dot','2dot'))\n",
    "dot3 = vx.Condition(vx.Stimulus('3dot','3dot'))\n",
    "dot5 = vx.Condition(vx.Stimulus('5dot','5dot'))\n",
    "\n",
    "spec = {}\n",
    "spec['conditions'] = [blank,dot3,blank,dot2,blank,dot5,blank,dot2,blank,dot3,blank,\n",
    "                    dot2,blank,dot5,blank,dot3,blank,dot5]\n",
    "spec['timing'] = np.array([7,1,5,1,6,1,6,1,9,1,5,1,9,1,6,1,9,1])*52 # in frames\n",
    "spec['project_dir'] = \"E:/Peter/numan/20220421_ok08_abtl_h2bcamp6s_9dpf_2v3v5_2P_1/\"\n",
    "spec['frames_per_volume'] = 52\n",
    "\n",
    "experiment = vx.Experiment.from_dic(spec)\n",
    "experiment.summary()"
   ]
  },
  {
   "cell_type": "markdown",
   "id": "b15c2081-cfc0-442c-9178-1b4e127e7d53",
   "metadata": {},
   "source": [
    "# Create dff movie"
   ]
  },
  {
   "cell_type": "code",
   "execution_count": null,
   "id": "5caf43b4-22e7-4738-8830-f98d876c76b3",
   "metadata": {
    "tags": []
   },
   "outputs": [],
   "source": [
    "save_dir = 'E:/Peter/numan/dff/'\n",
    "batch_size = 25 # in volumes\n",
    "window_size = 15 # in volumes\n",
    "nu.Preprocess(experiment).batch_dff(save_dir,batch_size, window_size, verbose=True )"
   ]
  },
  {
   "cell_type": "markdown",
   "id": "608fb189-627e-4239-b97a-10d3592f330c",
   "metadata": {},
   "source": [
    "### Now set the dff as data : "
   ]
  },
  {
   "cell_type": "code",
   "execution_count": 3,
   "id": "54490b2d-61c7-4020-aa26-f76beb07e5c1",
   "metadata": {
    "collapsed": true,
    "jupyter": {
     "outputs_hidden": true
    },
    "tags": []
   },
   "outputs": [
    {
     "name": "stdout",
     "output_type": "stream",
     "text": [
      "Total of 115 files.\n",
      "Check the order :\n",
      "[ 0 ] dff_movie_0000.tif : 936 frames\n",
      "[ 1 ] dff_movie_0001.tif : 572 frames\n",
      "[ 2 ] dff_movie_0002.tif : 572 frames\n",
      "[ 3 ] dff_movie_0003.tif : 572 frames\n",
      "[ 4 ] dff_movie_0004.tif : 572 frames\n",
      "[ 5 ] dff_movie_0005.tif : 572 frames\n",
      "[ 6 ] dff_movie_0006.tif : 572 frames\n",
      "[ 7 ] dff_movie_0007.tif : 572 frames\n",
      "[ 8 ] dff_movie_0008.tif : 572 frames\n",
      "[ 9 ] dff_movie_0009.tif : 572 frames\n",
      "[ 10 ] dff_movie_0010.tif : 572 frames\n",
      "[ 11 ] dff_movie_0011.tif : 572 frames\n",
      "[ 12 ] dff_movie_0012.tif : 572 frames\n",
      "[ 13 ] dff_movie_0013.tif : 572 frames\n",
      "[ 14 ] dff_movie_0014.tif : 572 frames\n",
      "[ 15 ] dff_movie_0015.tif : 572 frames\n",
      "[ 16 ] dff_movie_0016.tif : 572 frames\n",
      "[ 17 ] dff_movie_0017.tif : 572 frames\n",
      "[ 18 ] dff_movie_0018.tif : 572 frames\n",
      "[ 19 ] dff_movie_0019.tif : 572 frames\n",
      "[ 20 ] dff_movie_0020.tif : 572 frames\n",
      "[ 21 ] dff_movie_0021.tif : 572 frames\n",
      "[ 22 ] dff_movie_0022.tif : 572 frames\n",
      "[ 23 ] dff_movie_0023.tif : 572 frames\n",
      "[ 24 ] dff_movie_0024.tif : 572 frames\n",
      "[ 25 ] dff_movie_0025.tif : 572 frames\n",
      "[ 26 ] dff_movie_0026.tif : 572 frames\n",
      "[ 27 ] dff_movie_0027.tif : 572 frames\n",
      "[ 28 ] dff_movie_0028.tif : 572 frames\n",
      "[ 29 ] dff_movie_0029.tif : 572 frames\n",
      "[ 30 ] dff_movie_0030.tif : 572 frames\n",
      "[ 31 ] dff_movie_0031.tif : 572 frames\n",
      "[ 32 ] dff_movie_0032.tif : 572 frames\n",
      "[ 33 ] dff_movie_0033.tif : 572 frames\n",
      "[ 34 ] dff_movie_0034.tif : 572 frames\n",
      "[ 35 ] dff_movie_0035.tif : 572 frames\n",
      "[ 36 ] dff_movie_0036.tif : 572 frames\n",
      "[ 37 ] dff_movie_0037.tif : 572 frames\n",
      "[ 38 ] dff_movie_0038.tif : 572 frames\n",
      "[ 39 ] dff_movie_0039.tif : 572 frames\n",
      "[ 40 ] dff_movie_0040.tif : 572 frames\n",
      "[ 41 ] dff_movie_0041.tif : 572 frames\n",
      "[ 42 ] dff_movie_0042.tif : 572 frames\n",
      "[ 43 ] dff_movie_0043.tif : 572 frames\n",
      "[ 44 ] dff_movie_0044.tif : 572 frames\n",
      "[ 45 ] dff_movie_0045.tif : 572 frames\n",
      "[ 46 ] dff_movie_0046.tif : 572 frames\n",
      "[ 47 ] dff_movie_0047.tif : 572 frames\n",
      "[ 48 ] dff_movie_0048.tif : 572 frames\n",
      "[ 49 ] dff_movie_0049.tif : 572 frames\n",
      "[ 50 ] dff_movie_0050.tif : 572 frames\n",
      "[ 51 ] dff_movie_0051.tif : 572 frames\n",
      "[ 52 ] dff_movie_0052.tif : 572 frames\n",
      "[ 53 ] dff_movie_0053.tif : 572 frames\n",
      "[ 54 ] dff_movie_0054.tif : 572 frames\n",
      "[ 55 ] dff_movie_0055.tif : 572 frames\n",
      "[ 56 ] dff_movie_0056.tif : 572 frames\n",
      "[ 57 ] dff_movie_0057.tif : 572 frames\n",
      "[ 58 ] dff_movie_0058.tif : 572 frames\n",
      "[ 59 ] dff_movie_0059.tif : 572 frames\n",
      "[ 60 ] dff_movie_0060.tif : 572 frames\n",
      "[ 61 ] dff_movie_0061.tif : 572 frames\n",
      "[ 62 ] dff_movie_0062.tif : 572 frames\n",
      "[ 63 ] dff_movie_0063.tif : 572 frames\n",
      "[ 64 ] dff_movie_0064.tif : 572 frames\n",
      "[ 65 ] dff_movie_0065.tif : 572 frames\n",
      "[ 66 ] dff_movie_0066.tif : 572 frames\n",
      "[ 67 ] dff_movie_0067.tif : 572 frames\n",
      "[ 68 ] dff_movie_0068.tif : 572 frames\n",
      "[ 69 ] dff_movie_0069.tif : 572 frames\n",
      "[ 70 ] dff_movie_0070.tif : 572 frames\n",
      "[ 71 ] dff_movie_0071.tif : 572 frames\n",
      "[ 72 ] dff_movie_0072.tif : 572 frames\n",
      "[ 73 ] dff_movie_0073.tif : 572 frames\n",
      "[ 74 ] dff_movie_0074.tif : 572 frames\n",
      "[ 75 ] dff_movie_0075.tif : 572 frames\n",
      "[ 76 ] dff_movie_0076.tif : 572 frames\n",
      "[ 77 ] dff_movie_0077.tif : 572 frames\n",
      "[ 78 ] dff_movie_0078.tif : 572 frames\n",
      "[ 79 ] dff_movie_0079.tif : 572 frames\n",
      "[ 80 ] dff_movie_0080.tif : 572 frames\n",
      "[ 81 ] dff_movie_0081.tif : 572 frames\n",
      "[ 82 ] dff_movie_0082.tif : 572 frames\n",
      "[ 83 ] dff_movie_0083.tif : 572 frames\n",
      "[ 84 ] dff_movie_0084.tif : 572 frames\n",
      "[ 85 ] dff_movie_0085.tif : 572 frames\n",
      "[ 86 ] dff_movie_0086.tif : 572 frames\n",
      "[ 87 ] dff_movie_0087.tif : 572 frames\n",
      "[ 88 ] dff_movie_0088.tif : 572 frames\n",
      "[ 89 ] dff_movie_0089.tif : 572 frames\n",
      "[ 90 ] dff_movie_0090.tif : 572 frames\n",
      "[ 91 ] dff_movie_0091.tif : 572 frames\n",
      "[ 92 ] dff_movie_0092.tif : 572 frames\n",
      "[ 93 ] dff_movie_0093.tif : 572 frames\n",
      "[ 94 ] dff_movie_0094.tif : 572 frames\n",
      "[ 95 ] dff_movie_0095.tif : 572 frames\n",
      "[ 96 ] dff_movie_0096.tif : 572 frames\n",
      "[ 97 ] dff_movie_0097.tif : 572 frames\n",
      "[ 98 ] dff_movie_0098.tif : 572 frames\n",
      "[ 99 ] dff_movie_0099.tif : 572 frames\n",
      "[ 100 ] dff_movie_0100.tif : 572 frames\n",
      "[ 101 ] dff_movie_0101.tif : 572 frames\n",
      "[ 102 ] dff_movie_0102.tif : 572 frames\n",
      "[ 103 ] dff_movie_0103.tif : 572 frames\n",
      "[ 104 ] dff_movie_0104.tif : 572 frames\n",
      "[ 105 ] dff_movie_0105.tif : 572 frames\n",
      "[ 106 ] dff_movie_0106.tif : 572 frames\n",
      "[ 107 ] dff_movie_0107.tif : 572 frames\n",
      "[ 108 ] dff_movie_0108.tif : 572 frames\n",
      "[ 109 ] dff_movie_0109.tif : 572 frames\n",
      "[ 110 ] dff_movie_0110.tif : 572 frames\n",
      "[ 111 ] dff_movie_0111.tif : 572 frames\n",
      "[ 112 ] dff_movie_0112.tif : 572 frames\n",
      "[ 113 ] dff_movie_0113.tif : 572 frames\n",
      "[ 114 ] dff_movie_0114.tif : 884 frames\n",
      "\n",
      "Cycle length: 3692\n",
      "Condition ['blank']: for 364 frames\n",
      "Condition ['3dot']: for 52 frames\n",
      "Condition ['blank']: for 260 frames\n",
      "Condition ['2dot']: for 52 frames\n",
      "Condition ['blank']: for 312 frames\n",
      "Condition ['5dot']: for 52 frames\n",
      "Condition ['blank']: for 312 frames\n",
      "Condition ['2dot']: for 52 frames\n",
      "Condition ['blank']: for 468 frames\n",
      "Condition ['3dot']: for 52 frames\n",
      "Condition ['blank']: for 260 frames\n",
      "Condition ['2dot']: for 52 frames\n",
      "Condition ['blank']: for 468 frames\n",
      "Condition ['5dot']: for 52 frames\n",
      "Condition ['blank']: for 312 frames\n",
      "Condition ['3dot']: for 52 frames\n",
      "Condition ['blank']: for 468 frames\n",
      "Condition ['5dot']: for 52 frames\n",
      "\n",
      "Total cycles (ceil): 18\n",
      "Total frames : 66456\n",
      "Total good volumes : 1278\n",
      "Frames per volume : 52\n",
      "\n"
     ]
    }
   ],
   "source": [
    "spec['project_dir'] = 'E:/Peter/numan/dff/'\n",
    "experiment = vx.Experiment.from_dic(spec)\n",
    "experiment.summary()"
   ]
  },
  {
   "cell_type": "markdown",
   "id": "a2e9a23a-252e-473e-ae1e-506f39cb8f65",
   "metadata": {},
   "source": [
    "# Create T-Score Image"
   ]
  },
  {
   "cell_type": "markdown",
   "id": "68269cdd-1f8b-44d9-a34b-d08d1c673e5e",
   "metadata": {},
   "source": [
    "## get the volumes corresponding to different conditions\n",
    "If you can't fit them all at once, do by pair, or even in chunks ( not implemented yet, but will be ) "
   ]
  },
  {
   "cell_type": "code",
   "execution_count": 4,
   "id": "e2c02b3e-2349-4eb0-a5ca-778d13ac8d9e",
   "metadata": {},
   "outputs": [
    {
     "name": "stdout",
     "output_type": "stream",
     "text": [
      "We found:\n",
      " (54,) volumes with 2dot\n",
      " (54,) volumes with 3dot\n",
      " (54,) volumes with 5dot\n",
      " (162,) volumes with blank\n"
     ]
    }
   ],
   "source": [
    "def merge_idx(idx_list):\n",
    "    return np.sort(np.concatenate(idx_list))\n",
    "\n",
    "# indeces of the volumes to load\n",
    "dot2_idx = experiment.select_volumes(dot2)\n",
    "dot3_idx = experiment.select_volumes(dot3)\n",
    "dot5_idx = experiment.select_volumes(dot5)\n",
    "blank_idx = merge_idx([(dot2_idx-1), (dot3_idx-1), (dot5_idx-1)])\n",
    "\n",
    "\n",
    "print(f\"We found:\\n\", \n",
    "      f\"{dot2_idx.shape} volumes with 2dot\")\n",
    "print(f\" {dot3_idx.shape} volumes with 3dot\")\n",
    "print(f\" {dot5_idx.shape} volumes with 5dot\")\n",
    "print(f\" {blank_idx.shape} volumes with blank\")"
   ]
  },
  {
   "cell_type": "code",
   "execution_count": 5,
   "id": "229e034a-ef8e-443c-9178-5c4307f64299",
   "metadata": {
    "tags": []
   },
   "outputs": [
    {
     "name": "stderr",
     "output_type": "stream",
     "text": [
      "100%|██████████| 2808/2808 [00:03<00:00, 825.59it/s]\n",
      "100%|██████████| 2808/2808 [00:03<00:00, 815.86it/s]\n",
      "100%|██████████| 2808/2808 [00:03<00:00, 836.51it/s]\n",
      "100%|██████████| 8424/8424 [00:10<00:00, 836.72it/s] \n"
     ]
    },
    {
     "data": {
      "text/plain": [
       "(54, 52, 468, 500)"
      ]
     },
     "execution_count": 5,
     "metadata": {},
     "output_type": "execute_result"
    }
   ],
   "source": [
    "# load the volumes \n",
    "dot2_volumes = experiment.volume_manager.load_volumes(dot2_idx, verbose = False)\n",
    "dot3_volumes = experiment.volume_manager.load_volumes(dot3_idx, verbose = False)\n",
    "dot5_volumes = experiment.volume_manager.load_volumes(dot5_idx, verbose = False)\n",
    "blank_volumes = experiment.volume_manager.load_volumes(blank_idx, verbose = False)\n",
    "dot2_volumes.shape"
   ]
  },
  {
   "cell_type": "code",
   "execution_count": 6,
   "id": "5a910339-2299-4c78-b2cb-b1b104fe5519",
   "metadata": {},
   "outputs": [
    {
     "data": {
      "text/plain": [
       "<matplotlib.image.AxesImage at 0x18a3a4a9ab0>"
      ]
     },
     "execution_count": 6,
     "metadata": {},
     "output_type": "execute_result"
    },
    {
     "data": {
      "image/png": "[encoded data removed]",
      "text/plain": [
       "<Figure size 432x288 with 1 Axes>"
      ]
     },
     "metadata": {
      "needs_background": "light"
     },
     "output_type": "display_data"
    }
   ],
   "source": [
    "# check a random slice of a volume, make sure it looks as expected ... \n",
    "plt.imshow(dot2_volumes[5,10,:,:])"
   ]
  },
  {
   "cell_type": "markdown",
   "id": "90fb47b8-6b01-4040-9195-c7e99809e375",
   "metadata": {},
   "source": [
    "## calculate and write t-score and diff images \n",
    "\n",
    "### 1. 5 dot vs 2 dot "
   ]
  },
  {
   "cell_type": "code",
   "execution_count": 8,
   "id": "52ed4247-b1a2-49bf-8f86-74bfd86b8af2",
   "metadata": {},
   "outputs": [
    {
     "name": "stdout",
     "output_type": "stream",
     "text": [
      "max t-image value : 1143.2918723918642, diff image : 19562.962962962964\n"
     ]
    },
    {
     "name": "stderr",
     "output_type": "stream",
     "text": [
      "C:\\Users\\luup\\AppData\\Local\\Temp\\ipykernel_8896\\99653016.py:8: DeprecationWarning: <tifffile.imsave> is deprecated. Use tifffile.imwrite\n",
      "  tif.imsave('E:/Peter/numan/processed/ok08_two_vs_five_t_score.tif',\n",
      "C:\\Users\\luup\\AppData\\Local\\Temp\\ipykernel_8896\\99653016.py:10: DeprecationWarning: <tifffile.imsave> is deprecated. Use tifffile.imwrite\n",
      "  tif.imsave('E:/Peter/numan/processed/ok08_two_vs_five_diff.tif',\n"
     ]
    }
   ],
   "source": [
    "# multiply difference image and t-score image by this constants before turning into integer and writing... \n",
    "T_SCALE = 1000\n",
    "DIFF_SCALE = 100 \n",
    "\n",
    "t_img = nu.get_t_score(dot2_volumes, dot5_volumes, absolute = True)*T_SCALE\n",
    "diff = nu.get_diff(dot2_volumes, dot5_volumes, absolute = True)*DIFF_SCALE\n",
    "\n",
    "tif.imsave('E:/Peter/numan/processed/ok08_two_vs_five_t_score.tif',\n",
    "           t_img.astype(np.uint16),shape=(52,468,500),metadata={'axes': 'ZYX'}, imagej=True)\n",
    "tif.imsave('E:/Peter/numan/processed/ok08_two_vs_five_diff.tif',\n",
    "           diff.astype(np.uint16),shape=(52,468,500),metadata={'axes': 'ZYX'}, imagej=True)\n",
    "\n",
    "print(f'max t-image value : {t_img.max()}, diff image : {diff.max()}')"
   ]
  },
  {
   "cell_type": "markdown",
   "id": "6ba04071-4821-405f-bc72-80a53e411bab",
   "metadata": {},
   "source": [
    "### 2. 5 dot vs 3 dot "
   ]
  },
  {
   "cell_type": "code",
   "execution_count": 9,
   "id": "4e5e23dd-94f2-4cab-9639-b5cc861524aa",
   "metadata": {},
   "outputs": [
    {
     "name": "stdout",
     "output_type": "stream",
     "text": [
      "max t-image value : 1092.9853999183622, diff image : 4100.0\n"
     ]
    },
    {
     "name": "stderr",
     "output_type": "stream",
     "text": [
      "C:\\Users\\luup\\AppData\\Local\\Temp\\ipykernel_8896\\864869645.py:8: DeprecationWarning: <tifffile.imsave> is deprecated. Use tifffile.imwrite\n",
      "  tif.imsave('E:/Peter/numan/processed/ok08_three_vs_five_t_score.tif',\n",
      "C:\\Users\\luup\\AppData\\Local\\Temp\\ipykernel_8896\\864869645.py:10: DeprecationWarning: <tifffile.imsave> is deprecated. Use tifffile.imwrite\n",
      "  tif.imsave('E:/Peter/numan/processed/ok08_three_vs_five_diff.tif',\n"
     ]
    }
   ],
   "source": [
    "# multiply difference image and t-score image by this constants before turning into integer and writing... \n",
    "T_SCALE = 1000\n",
    "DIFF_SCALE = 100 \n",
    "\n",
    "t_img = nu.get_t_score(dot3_volumes, dot5_volumes, absolute = True)*T_SCALE\n",
    "diff = nu.get_diff(dot3_volumes, dot5_volumes, absolute = True)*DIFF_SCALE\n",
    "\n",
    "tif.imsave('E:/Peter/numan/processed/ok08_three_vs_five_t_score.tif',\n",
    "           t_img.astype(np.uint16),shape=(52,468,500),metadata={'axes': 'ZYX'}, imagej=True)\n",
    "tif.imsave('E:/Peter/numan/processed/ok08_three_vs_five_diff.tif',\n",
    "           diff.astype(np.uint16),shape=(52,468,500),metadata={'axes': 'ZYX'}, imagej=True)\n",
    "\n",
    "print(f'max t-image value : {t_img.max()}, diff image : {diff.max()}')"
   ]
  },
  {
   "cell_type": "markdown",
   "id": "14163ed8-c5c1-499a-add4-6d43f38169bd",
   "metadata": {},
   "source": [
    "### 3. 3 dot vs 2 dot "
   ]
  },
  {
   "cell_type": "code",
   "execution_count": 10,
   "id": "b29f9387-05c7-475c-a8f9-6d60985b5edd",
   "metadata": {},
   "outputs": [
    {
     "name": "stdout",
     "output_type": "stream",
     "text": [
      "max t-image value : 1187.2951663435374, diff image : 19551.851851851854\n"
     ]
    },
    {
     "name": "stderr",
     "output_type": "stream",
     "text": [
      "C:\\Users\\luup\\AppData\\Local\\Temp\\ipykernel_8896\\1903526863.py:8: DeprecationWarning: <tifffile.imsave> is deprecated. Use tifffile.imwrite\n",
      "  tif.imsave('E:/Peter/numan/processed/ok08_two_vs_three_t_score.tif',\n",
      "C:\\Users\\luup\\AppData\\Local\\Temp\\ipykernel_8896\\1903526863.py:10: DeprecationWarning: <tifffile.imsave> is deprecated. Use tifffile.imwrite\n",
      "  tif.imsave('E:/Peter/numan/processed/ok08_two_vs_three_diff.tif',\n"
     ]
    }
   ],
   "source": [
    "# multiply difference image and t-score image by this constants before turning into integer and writing... \n",
    "T_SCALE = 1000\n",
    "DIFF_SCALE = 100 \n",
    "\n",
    "t_img = nu.get_t_score(dot2_volumes, dot3_volumes, absolute = True)*T_SCALE\n",
    "diff = nu.get_diff(dot2_volumes, dot3_volumes, absolute = True)*DIFF_SCALE\n",
    "\n",
    "tif.imsave('E:/Peter/numan/processed/ok08_two_vs_three_t_score.tif',\n",
    "           t_img.astype(np.uint16),shape=(52,468,500),metadata={'axes': 'ZYX'}, imagej=True)\n",
    "tif.imsave('E:/Peter/numan/processed/ok08_two_vs_three_diff.tif',\n",
    "           diff.astype(np.uint16),shape=(52,468,500),metadata={'axes': 'ZYX'}, imagej=True)\n",
    "\n",
    "print(f'max t-image value : {t_img.max()}, diff image : {diff.max()}')"
   ]
  },
  {
   "cell_type": "markdown",
   "id": "b1501f49-001c-4f51-b0d4-275c3421c9f1",
   "metadata": {},
   "source": [
    "### 2. 5 dot vs all blank"
   ]
  },
  {
   "cell_type": "code",
   "execution_count": 11,
   "id": "b7c666ef-ce05-439d-b994-618793de3c55",
   "metadata": {},
   "outputs": [
    {
     "name": "stdout",
     "output_type": "stream",
     "text": [
      "max t-image value : 937.5331996658667, diff image : 3750.617283950618\n"
     ]
    },
    {
     "name": "stderr",
     "output_type": "stream",
     "text": [
      "C:\\Users\\luup\\AppData\\Local\\Temp\\ipykernel_8896\\3584013264.py:4: DeprecationWarning: <tifffile.imsave> is deprecated. Use tifffile.imwrite\n",
      "  tif.imsave('E:/Peter/numan/processed/ok08_dot5_vs_all_blank_t_score.tif',\n",
      "C:\\Users\\luup\\AppData\\Local\\Temp\\ipykernel_8896\\3584013264.py:6: DeprecationWarning: <tifffile.imsave> is deprecated. Use tifffile.imwrite\n",
      "  tif.imsave('E:/Peter/numan/processed/ok08_dot5_vs_all_blank_diff.tif',\n"
     ]
    }
   ],
   "source": [
    "t_img = nu.get_t_score(blank_volumes, dot5_volumes, absolute = True)*T_SCALE\n",
    "diff = nu.get_diff(blank_volumes, dot5_volumes, absolute = True)*DIFF_SCALE\n",
    "\n",
    "tif.imsave('E:/Peter/numan/processed/ok08_dotfive_vs_all_blank_t_score.tif',\n",
    "           t_img.astype(np.uint16),shape=(52,468,500),metadata={'axes': 'ZYX'}, imagej=True)\n",
    "tif.imsave('E:/Peter/numan/processed/ok08_dotfive_vs_all_blank_diff.tif',\n",
    "           diff.astype(np.uint16),shape=(52,468,500),metadata={'axes': 'ZYX'}, imagej=True)\n",
    "\n",
    "print(f'max t-image value : {t_img.max()}, diff image : {diff.max()}')"
   ]
  },
  {
   "cell_type": "markdown",
   "id": "d4ce4faf-6d6d-4950-ac37-ba19e4f55d90",
   "metadata": {},
   "source": [
    "### 2. 3 dot vs all blank"
   ]
  },
  {
   "cell_type": "code",
   "execution_count": 13,
   "id": "427b8cde-323c-4988-9326-319b34f79db4",
   "metadata": {},
   "outputs": [
    {
     "name": "stdout",
     "output_type": "stream",
     "text": [
      "max t-image value : 885.1137515447447, diff image : 3948.7654320987654\n"
     ]
    },
    {
     "name": "stderr",
     "output_type": "stream",
     "text": [
      "C:\\Users\\luup\\AppData\\Local\\Temp\\ipykernel_8896\\1389367232.py:4: DeprecationWarning: <tifffile.imsave> is deprecated. Use tifffile.imwrite\n",
      "  tif.imsave('E:/Peter/numan/processed/ok08_dot3_vs_all_blank_t_score.tif',\n",
      "C:\\Users\\luup\\AppData\\Local\\Temp\\ipykernel_8896\\1389367232.py:6: DeprecationWarning: <tifffile.imsave> is deprecated. Use tifffile.imwrite\n",
      "  tif.imsave('E:/Peter/numan/processed/ok08_dot3_vs_all_blank_diff.tif',\n"
     ]
    }
   ],
   "source": [
    "t_img = nu.get_t_score(blank_volumes, dot3_volumes, absolute = True)*T_SCALE\n",
    "diff = nu.get_diff(blank_volumes, dot3_volumes, absolute = True)*DIFF_SCALE\n",
    "\n",
    "tif.imsave('E:/Peter/numan/processed/ok08_dotthree_vs_all_blank_t_score.tif',\n",
    "           t_img.astype(np.uint16),shape=(52,468,500),metadata={'axes': 'ZYX'}, imagej=True)\n",
    "tif.imsave('E:/Peter/numan/processed/ok08_dotthree_vs_all_blank_diff.tif',\n",
    "           diff.astype(np.uint16),shape=(52,468,500),metadata={'axes': 'ZYX'}, imagej=True)\n",
    "\n",
    "print(f'max t-image value : {t_img.max()}, diff image : {diff.max()}')"
   ]
  },
  {
   "cell_type": "markdown",
   "id": "b128cd98-0527-4063-8632-a0f3c2059c09",
   "metadata": {},
   "source": [
    "### 3. 2 dot vs all blank"
   ]
  },
  {
   "cell_type": "code",
   "execution_count": 14,
   "id": "43fbb792-4a77-4f55-a642-92d272e27d52",
   "metadata": {},
   "outputs": [
    {
     "name": "stdout",
     "output_type": "stream",
     "text": [
      "max t-image value : 1288.5535135627297, diff image : 19935.802469135804\n"
     ]
    },
    {
     "name": "stderr",
     "output_type": "stream",
     "text": [
      "C:\\Users\\luup\\AppData\\Local\\Temp\\ipykernel_8896\\128380737.py:4: DeprecationWarning: <tifffile.imsave> is deprecated. Use tifffile.imwrite\n",
      "  tif.imsave('E:/Peter/numan/processed/ok08_dot2_vs_all_blank_t_score.tif',\n",
      "C:\\Users\\luup\\AppData\\Local\\Temp\\ipykernel_8896\\128380737.py:6: DeprecationWarning: <tifffile.imsave> is deprecated. Use tifffile.imwrite\n",
      "  tif.imsave('E:/Peter/numan/processed/ok08_dot2_vs_all_blank_diff.tif',\n"
     ]
    }
   ],
   "source": [
    "t_img = nu.get_t_score(dot2_volumes, blank_volumes, absolute = True)*T_SCALE\n",
    "diff = nu.get_diff(dot2_volumes, blank_volumes, absolute = True)*DIFF_SCALE\n",
    "\n",
    "tif.imsave('E:/Peter/numan/processed/ok08_dottwo_vs_all_blank_t_score.tif',\n",
    "           t_img.astype(np.uint16),shape=(52,468,500),metadata={'axes': 'ZYX'}, imagej=True)\n",
    "tif.imsave('E:/Peter/numan/processed/ok08_dottwo_vs_all_blank_diff.tif',\n",
    "           diff.astype(np.uint16),shape=(52,468,500),metadata={'axes': 'ZYX'}, imagej=True)\n",
    "\n",
    "print(f'max t-image value : {t_img.max()}, diff image : {diff.max()}')"
   ]
  },
  {
   "cell_type": "markdown",
   "id": "071434b1-a2ec-4bc9-80e0-c988930344bb",
   "metadata": {},
   "source": [
    "### 4. random shuffle of blanks \n",
    "You need to enter the number of blanks in the experiment and the number of stimulus ( can be any of the : number of 2 dots or 3 dots or 5 dots ... ) "
   ]
  },
  {
   "cell_type": "code",
   "execution_count": 15,
   "id": "a4410486-e854-4975-ae01-996355dbcc77",
   "metadata": {},
   "outputs": [
    {
     "name": "stderr",
     "output_type": "stream",
     "text": [
      "C:\\Users\\luup\\AppData\\Local\\Temp\\ipykernel_8896\\2878489171.py:13: DeprecationWarning: <tifffile.imsave> is deprecated. Use tifffile.imwrite\n",
      "  tif.imsave(f'E:/Peter/numan/processed/ok08_blank_vs_blank_random_split{isplit}_t_score.tif',t_img.astype(np.uint16),\n",
      "C:\\Users\\luup\\AppData\\Local\\Temp\\ipykernel_8896\\2878489171.py:15: DeprecationWarning: <tifffile.imsave> is deprecated. Use tifffile.imwrite\n",
      "  tif.imsave(f'E:/Peter/numan/processed/ok08_blank_vs_blank_random_split{isplit}_t_score.tif',t_img.astype(np.uint16),\n"
     ]
    },
    {
     "name": "stdout",
     "output_type": "stream",
     "text": [
      "max t-image value : 1470.8737559521833, diff image : 6140.000000000001\n",
      "max t-image value : 1684.8496610792797, diff image : 8183.333333333334\n",
      "max t-image value : 1485.4393572630634, diff image : 7203.333333333333\n",
      "max t-image value : 1562.941376616057, diff image : 5553.333333333334\n",
      "max t-image value : 1528.5983711165838, diff image : 7180.000000000001\n"
     ]
    }
   ],
   "source": [
    "np.random.seed(42)\n",
    "# INPUT NEEDED _______________________\n",
    "# enter the number of blanks and stims: \n",
    "n_blanks = 162\n",
    "n_stim = 54\n",
    "# ____________________________________\n",
    "\n",
    "split_memory = {}\n",
    "for isplit in [1,2,3,4,5]:\n",
    "    \n",
    "    random60 = np.random.choice(n_blanks, size=n_stim*2, replace=False)\n",
    "    blank_group1 = random60[0:n_stim]\n",
    "    blank_group2 = random60[n_stim:n_stim*2]\n",
    "\n",
    "    t_img = nu.get_t_score(blank_volumes[blank_group1,:,:,:], blank_volumes[blank_group2,:,:,:])*T_SCALE\n",
    "    diff = nu.get_diff(blank_volumes[blank_group1,:,:,:], blank_volumes[blank_group2,:,:,:])*DIFF_SCALE\n",
    "\n",
    "    tif.imsave(f'E:/Peter/numan/processed/ok08_blank_vs_blank_random_split{isplit}_t_score.tif',t_img.astype(np.uint16),\n",
    "               shape=(52,468,500),metadata={'axes': 'ZYX'}, imagej=True)\n",
    "    tif.imsave(f'E:/Peter/numan/processed/ok08_blank_vs_blank_random_split{isplit}_t_score.tif',t_img.astype(np.uint16),\n",
    "               shape=(52,468,500),metadata={'axes': 'ZYX'}, imagej=True)\n",
    "    \n",
    "    print(f'max t-image value : {t_img.max()}, diff image : {diff.max()}')\n",
    "\n",
    "    split_memory[f'split{isplit} group1'] = blank_group1\n",
    "    split_memory[f'split{isplit} group2'] = blank_group2\n",
    "    "
   ]
  },
  {
   "cell_type": "code",
   "execution_count": 16,
   "id": "e875f5fe-3e47-407d-9f08-99916b1d8ef1",
   "metadata": {},
   "outputs": [],
   "source": [
    "import pandas as pd\n",
    "split_df = pd.DataFrame.from_dict(split_memory)\n",
    "split_df.to_csv('E:/Peter/numan/processed/ok08_blank_split_info.csv',index=False)"
   ]
  },
  {
   "cell_type": "code",
   "execution_count": null,
   "id": "ca4732b8-a7bf-4479-8e79-1917306010a8",
   "metadata": {},
   "outputs": [],
   "source": []
  }
 ],
 "metadata": {
  "kernelspec": {
   "display_name": "Python 3 (ipykernel)",
   "language": "python",
   "name": "python3"
  },
  "language_info": {
   "codemirror_mode": {
    "name": "ipython",
    "version": 3
   },
   "file_extension": ".py",
   "mimetype": "text/x-python",
   "name": "python",
   "nbconvert_exporter": "python",
   "pygments_lexer": "ipython3",
   "version": "3.10.2"
  }
 },
 "nbformat": 4,
 "nbformat_minor": 5
}
